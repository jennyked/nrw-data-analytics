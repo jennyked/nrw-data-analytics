{
  "nbformat": 4,
  "nbformat_minor": 0,
  "metadata": {
    "colab": {
      "name": "Lady tasting tea.ipynb",
      "provenance": [],
      "collapsed_sections": [],
      "authorship_tag": "ABX9TyMcrsZ19QcWFo0c87DjGGOV",
      "include_colab_link": true
    },
    "kernelspec": {
      "name": "python3",
      "display_name": "Python 3"
    },
    "language_info": {
      "name": "python"
    }
  },
  "cells": [
    {
      "cell_type": "markdown",
      "metadata": {
        "id": "view-in-github",
        "colab_type": "text"
      },
      "source": [
        "<a href=\"https://colab.research.google.com/github/jennyked/nrw-data-analytics/blob/main/Lady_tasting_tea.ipynb\" target=\"_parent\"><img src=\"https://colab.research.google.com/assets/colab-badge.svg\" alt=\"Open In Colab\"/></a>"
      ]
    },
    {
      "cell_type": "markdown",
      "source": [
        "## **The Lady Tasting Tea **\n",
        "The lady tasting tea is a randomized experiment devised by Ronald Fisher and reported in his book The Design of Experiments (1935). The experiment is the original exposition of Fisher's notion of a null hypothesis, which is \"never proved or established, but is possibly disproved, in the course of experimentation\".\n",
        "\n",
        "\n",
        "\n",
        "\n"
      ],
      "metadata": {
        "id": "CxGT7t2jEa6h"
      }
    },
    {
      "cell_type": "markdown",
      "source": [
        "# **Experimental Design**\n",
        "\n",
        "The experiment provides a subject with 8 randomly ordered cups of tea – 4 prepared by first pouring the tea, then adding milk, 4 prepared by first pouring the milk, then adding the tea. The subject has to select 4 cups prepared by one method. Judging cups by direct comparison is allowed. The method employed in the experiment is fully disclosed to the subject. \n",
        "\n",
        "The aim is to calculate the number of cups that the woman can guess correctly only by chance, by using the cup in which 4 milk is poured first and 4 tea is poured first, and to make an inference on the accuracy of the claim. The task of the woman is to divide the cups into two groups according to the order in which the tea and milk are poured. For this, she must correctly classify and select 4 cups from the same group."
      ],
      "metadata": {
        "id": "O9auZ0ocR3Cm"
      }
    },
    {
      "cell_type": "code",
      "source": [
        "\n",
        "#Define cups\n",
        "cups =list(range(8))\n",
        "cups"
      ],
      "metadata": {
        "colab": {
          "base_uri": "https://localhost:8080/"
        },
        "id": "Ii-Zj2mbVC5j",
        "outputId": "3fe7a416-75c4-4b6d-eeed-b2338342832f"
      },
      "execution_count": null,
      "outputs": [
        {
          "output_type": "execute_result",
          "data": {
            "text/plain": [
              "[0, 1, 2, 3, 4, 5, 6, 7]"
            ]
          },
          "metadata": {},
          "execution_count": 1
        }
      ]
    },
    {
      "cell_type": "code",
      "source": [
        "# Number of options to select 4 out of 8 cups:\n",
        "\n",
        "pnum = (8*7*6*5*4*3*2*1)/((4*3*2*1)*(4*3*2*1))\n",
        "print(pnum)"
      ],
      "metadata": {
        "colab": {
          "base_uri": "https://localhost:8080/"
        },
        "id": "-KFyXhwdVRwn",
        "outputId": "71be5741-d873-4bf7-cd89-62b716c6bbb7"
      },
      "execution_count": null,
      "outputs": [
        {
          "output_type": "stream",
          "name": "stdout",
          "text": [
            "70.0\n"
          ]
        }
      ]
    },
    {
      "cell_type": "markdown",
      "source": [
        "A combinatorial approach was taken to enlist all the outcomes, which in this case is 70. \n",
        "\n",
        "1)There is only one possibility among 70 to get all of them right. \n",
        "\n",
        "2)There are 16 ways to choose 3 correct and 1 incorrect cup, similarly, 16 ways to choose 1 correct and 3 incorrect cups\n",
        "\n",
        "3)There are 36 ways to choose 2 correct and 2 wrong cups.\n",
        "\n",
        "4)There is one possibility among 70 to get all of them wrong. \n",
        "\n",
        "\n",
        "\n",
        "\n",
        "\n"
      ],
      "metadata": {
        "id": "BUxtC1XUd3Z3"
      }
    },
    {
      "cell_type": "code",
      "source": [
        "#Approach for 4 choose 4\n",
        "try: \n",
        "    from scipy.special import comb, logsumexp\n",
        "except ImportError:\n",
        "    from scipy.misc import comb, logsumexp\n",
        "comb(4,4)"
      ],
      "metadata": {
        "colab": {
          "base_uri": "https://localhost:8080/"
        },
        "id": "6xCdTnC5p6at",
        "outputId": "7f7f0e06-77dc-4a13-edce-a3705d66f01f"
      },
      "execution_count": null,
      "outputs": [
        {
          "output_type": "execute_result",
          "data": {
            "text/plain": [
              "1.0"
            ]
          },
          "metadata": {},
          "execution_count": 3
        }
      ]
    },
    {
      "cell_type": "code",
      "source": [
        "#The probability to select correctly 4 cups:\n",
        "prob = (1/70) \n",
        "print(f\"The probability to select correctly 4 out of 8 cups = {prob}\")"
      ],
      "metadata": {
        "colab": {
          "base_uri": "https://localhost:8080/"
        },
        "id": "MPUddFtJVj4J",
        "outputId": "ea2bb03a-02d1-4c7a-96d2-992e65ece019"
      },
      "execution_count": null,
      "outputs": [
        {
          "output_type": "stream",
          "name": "stdout",
          "text": [
            "The probability to select correctly 4 out of 8 cups = 0.014285714285714285\n"
          ]
        }
      ]
    },
    {
      "cell_type": "code",
      "source": [
        ""
      ],
      "metadata": {
        "id": "v6t2cU4nyVAB"
      },
      "execution_count": null,
      "outputs": []
    },
    {
      "cell_type": "code",
      "source": [
        "#Approach for 4 choose 3 correctly\n",
        "try: \n",
        "    from scipy.special import comb, logsumexp\n",
        "except ImportError:\n",
        "    from scipy.misc import comb, logsumexp\n",
        "comb(4,3)"
      ],
      "metadata": {
        "colab": {
          "base_uri": "https://localhost:8080/"
        },
        "id": "mucmWHonqZBf",
        "outputId": "86fee212-ea8f-4006-c73b-4173c1a788af"
      },
      "execution_count": null,
      "outputs": [
        {
          "output_type": "execute_result",
          "data": {
            "text/plain": [
              "4.0"
            ]
          },
          "metadata": {},
          "execution_count": 5
        }
      ]
    },
    {
      "cell_type": "code",
      "source": [
        "#Approach for 4 choose 1 wrong cup \n",
        "try: \n",
        "    from scipy.special import comb, logsumexp\n",
        "except ImportError:\n",
        "    from scipy.misc import comb, logsumexp\n",
        "comb(4,1)"
      ],
      "metadata": {
        "colab": {
          "base_uri": "https://localhost:8080/"
        },
        "id": "LAMcVvj7uQDv",
        "outputId": "94b5fcbb-9346-4cdc-e2cf-7360d88048a8"
      },
      "execution_count": null,
      "outputs": [
        {
          "output_type": "execute_result",
          "data": {
            "text/plain": [
              "4.0"
            ]
          },
          "metadata": {},
          "execution_count": 6
        }
      ]
    },
    {
      "cell_type": "code",
      "source": [
        "#The probability to select correctly 3 correct cups and 1 wrong cup:\n",
        "prob16 = (16/70) \n",
        "print(f\"The probability to select correctly 3 correct and 1 wrong cup = {prob16}\")"
      ],
      "metadata": {
        "colab": {
          "base_uri": "https://localhost:8080/"
        },
        "id": "mxdXPkWVdLwe",
        "outputId": "3f23070b-9b66-4eea-cda9-efda7ac74670"
      },
      "execution_count": null,
      "outputs": [
        {
          "output_type": "stream",
          "name": "stdout",
          "text": [
            "The probability to select correctly 3 correct and 1 wrong cup = 0.22857142857142856\n"
          ]
        }
      ]
    },
    {
      "cell_type": "code",
      "source": [
        ""
      ],
      "metadata": {
        "id": "M-VxaM1ZyXmW"
      },
      "execution_count": null,
      "outputs": []
    },
    {
      "cell_type": "code",
      "source": [
        "#The probability to select correctly 2 correct cups and 2 wrong cups:\n",
        "\n",
        "try: \n",
        "    from scipy.special import comb, logsumexp\n",
        "except ImportError:\n",
        "    from scipy.misc import comb, logsumexp\n",
        "comb(4,2)"
      ],
      "metadata": {
        "colab": {
          "base_uri": "https://localhost:8080/"
        },
        "id": "p1myzQWStiEn",
        "outputId": "ce75cd23-201b-4f6c-ea86-dc70575dbad1"
      },
      "execution_count": null,
      "outputs": [
        {
          "output_type": "execute_result",
          "data": {
            "text/plain": [
              "6.0"
            ]
          },
          "metadata": {},
          "execution_count": 8
        }
      ]
    },
    {
      "cell_type": "code",
      "source": [
        "#The probability to select correctly 2 correct cups and 2 wrong cups:\n",
        "\n",
        "prob36 = (36/70) \n",
        "print(f\"The probability to select correctly 2 correct and 2 wrong cups = {prob36}\")"
      ],
      "metadata": {
        "colab": {
          "base_uri": "https://localhost:8080/"
        },
        "id": "ZBJ2Du0NdLzs",
        "outputId": "90de66cc-8569-426d-ea87-0f7a96dc6484"
      },
      "execution_count": null,
      "outputs": [
        {
          "output_type": "stream",
          "name": "stdout",
          "text": [
            "The probability to select correctly 2 correct and 2 wrong cups = 0.5142857142857142\n"
          ]
        }
      ]
    },
    {
      "cell_type": "code",
      "source": [
        ""
      ],
      "metadata": {
        "id": "raF8JkulyZ4Q"
      },
      "execution_count": null,
      "outputs": []
    },
    {
      "cell_type": "code",
      "source": [
        "#The probability to select correctly 1 correct cup and 3 wrong cups:\n",
        "prob161 = (16/70) \n",
        "print(f\"The probability to select correctly 1 correct and 3 wrong cups = {prob161}\")"
      ],
      "metadata": {
        "colab": {
          "base_uri": "https://localhost:8080/"
        },
        "id": "J_QkjF1Xk4fQ",
        "outputId": "4d9ef27e-2e95-4b52-fc50-e1452b9a038d"
      },
      "execution_count": null,
      "outputs": [
        {
          "output_type": "stream",
          "name": "stdout",
          "text": [
            "The probability to select correctly 1 correct and 3 wrong cups = 0.22857142857142856\n"
          ]
        }
      ]
    },
    {
      "cell_type": "code",
      "source": [
        ""
      ],
      "metadata": {
        "id": "LR2gn5AKydhF"
      },
      "execution_count": null,
      "outputs": []
    },
    {
      "cell_type": "code",
      "source": [
        "#The probability to select correctly 4 out of 8 cups:\n",
        "prob1 = (1/70) \n",
        "print(f\"The probability to select wrongly 4 out of 8 cups = {prob1}\")"
      ],
      "metadata": {
        "colab": {
          "base_uri": "https://localhost:8080/"
        },
        "id": "hnMmn-4RdL45",
        "outputId": "b96fe5b3-d343-4d6a-e739-3549e998daf9"
      },
      "execution_count": null,
      "outputs": [
        {
          "output_type": "stream",
          "name": "stdout",
          "text": [
            "The probability to select wrongly 4 out of 8 cups = 0.014285714285714285\n"
          ]
        }
      ]
    },
    {
      "cell_type": "code",
      "source": [
        "import matplotlib.pyplot as plt\n"
      ],
      "metadata": {
        "id": "tJy1W5rUdL77"
      },
      "execution_count": null,
      "outputs": []
    },
    {
      "cell_type": "code",
      "source": [
        "\n",
        "# x axis values is the number of cups correctly chosen\n",
        "x = [4,3,2,1,0]\n",
        "# corresponding y axis values is the probability\n",
        "y = [0.014,0.23,0.51,0.23, 0.014]\n",
        " \n",
        "# plotting the points\n",
        "plt.bar(x, y)\n",
        " \n",
        "# naming the x axis\n",
        "plt.xlabel('Number of correct cups')\n",
        "# naming the y axis\n",
        "plt.ylabel('Probability')\n",
        " \n",
        "# giving a title to my graph\n",
        "plt.title('Lady Tasting Tea Distribution')\n",
        " \n",
        "# function to show the plot\n",
        "plt.show()"
      ],
      "metadata": {
        "colab": {
          "base_uri": "https://localhost:8080/",
          "height": 295
        },
        "id": "OTT_qaKldL-5",
        "outputId": "5cec96f6-cc6e-4792-cffe-92fed5f6741e"
      },
      "execution_count": null,
      "outputs": [
        {
          "output_type": "display_data",
          "data": {
            "text/plain": [
              "<Figure size 432x288 with 1 Axes>"
            ],
            "image/png": "[encoded data removed]"
          },
          "metadata": {
            "needs_background": "light"
          }
        }
      ]
    },
    {
      "cell_type": "code",
      "source": [
        ""
      ],
      "metadata": {
        "id": "T5n1sGf9dMBa"
      },
      "execution_count": null,
      "outputs": []
    },
    {
      "cell_type": "markdown",
      "source": [
        "## Conclusion\n",
        "The null hypothesis is that the woman does not have such a talent and an inference can be made by reasoning over the p-value in the statistics in the experiment. For this reason, it is necessary to assume that the woman does not have such a talent and to calculate the ratio of possible successes to all probabilities, which may occur in a completely random way.\n",
        "\n",
        "\n",
        "It can be said that the p-value determines whether the result is statistically significant. If the result obtained is less than 0.05 (5%), the null hypothesis is rejected, that is, the result found is interpreted as statistically significant.\n",
        "\n",
        "The case of all cups are placed correctly that is, 0.014, is statistically significant (because of 0.014 < 0.05). This means that the null hypothesis is rejected and the woman indeed does have talent to choose. Although seen from the analysis above the probability(1/70) is extremely rare.\n",
        "\n",
        "On the other hand, the case of at least 3 of 4 cups are placed correctly, that is, 0.243, is not statistically significant based on the p-value ( because of 0.243>0.05), it is considered statistically insignificant if the woman predicts 3 out of 4 glasses. This means that a single mistake made by the woman will reduce her performance below the level of significance. In such a case, the experiment is either repeated or the elements are expanded."
      ],
      "metadata": {
        "id": "cgdbFglgnuzn"
      }
    },
    {
      "cell_type": "code",
      "source": [
        "# # How many cups of tea with milk does one have to prepare and serve in the context of a to blind-test to a tea connoisseur in order to make sure that he/she can truly distinguish those cups in which\n",
        "#  milk has been poured after the tea from those for which the order has been inverted?"
      ],
      "metadata": {
        "id": "cJH3T_11dMER"
      },
      "execution_count": null,
      "outputs": []
    },
    {
      "cell_type": "markdown",
      "source": [
        "From the Ronald Fisher lady tasting tea, to be able to blind-taste tea, a larger sample size is needed. In the Lady Tasting Tea test, the probability to blindly taste tea was quite limited as the sample size of 8 cups wasnt sufficient. To differentiate between the milk and tea cups, a statistical significance is seen from ten sample size and above. "
      ],
      "metadata": {
        "id": "M1Nep1vK-oZV"
      }
    },
    {
      "cell_type": "code",
      "source": [
        "import numpy as np\n",
        "import pandas as pd"
      ],
      "metadata": {
        "id": "JtwoaO20dMG6"
      },
      "execution_count": null,
      "outputs": []
    },
    {
      "cell_type": "code",
      "source": [
        "ar=np.array([[4, 0],[0, 4]])    \n",
        "df=pd.DataFrame(ar, columns=[\"Milk\", \"Tea\"])\n",
        "df.index=[\"Milk\", \"Tea\"] \n",
        "df "
      ],
      "metadata": {
        "id": "SBtCEJf-dMJg",
        "colab": {
          "base_uri": "https://localhost:8080/",
          "height": 112
        },
        "outputId": "af537d74-a3dc-4204-da5f-3c7fbc851982"
      },
      "execution_count": null,
      "outputs": [
        {
          "output_type": "execute_result",
          "data": {
            "text/plain": [
              "      Milk  Tea\n",
              "Milk     4    0\n",
              "Tea      0    4"
            ],
            "text/html": [
              "\n",
              "  <div id=\"df-a1907f39-8873-44aa-bbee-867ef0d708e1\">\n",
              "    <div class=\"colab-df-container\">\n",
              "      <div>\n",
              "<style scoped>\n",
              "    .dataframe tbody tr th:only-of-type {\n",
              "        vertical-align: middle;\n",
              "    }\n",
              "\n",
              "    .dataframe tbody tr th {\n",
              "        vertical-align: top;\n",
              "    }\n",
              "\n",
              "    .dataframe thead th {\n",
              "        text-align: right;\n",
              "    }\n",
              "</style>\n",
              "<table border=\"1\" class=\"dataframe\">\n",
              "  <thead>\n",
              "    <tr style=\"text-align: right;\">\n",
              "      <th></th>\n",
              "      <th>Milk</th>\n",
              "      <th>Tea</th>\n",
              "    </tr>\n",
              "  </thead>\n",
              "  <tbody>\n",
              "    <tr>\n",
              "      <th>Milk</th>\n",
              "      <td>4</td>\n",
              "      <td>0</td>\n",
              "    </tr>\n",
              "    <tr>\n",
              "      <th>Tea</th>\n",
              "      <td>0</td>\n",
              "      <td>4</td>\n",
              "    </tr>\n",
              "  </tbody>\n",
              "</table>\n",
              "</div>\n",
              "      <button class=\"colab-df-convert\" onclick=\"convertToInteractive('df-a1907f39-8873-44aa-bbee-867ef0d708e1')\"\n",
              "              title=\"Convert this dataframe to an interactive table.\"\n",
              "              style=\"display:none;\">\n",
              "        \n",
              "  <svg xmlns=\"http://www.w3.org/2000/svg\" height=\"24px\"viewBox=\"0 0 24 24\"\n",
              "       width=\"24px\">\n",
              "    <path d=\"M0 0h24v24H0V0z\" fill=\"none\"/>\n",
              "    <path d=\"M18.56 5.44l.94 2.06.94-2.06 2.06-.94-2.06-.94-.94-2.06-.94 2.06-2.06.94zm-11 1L8.5 8.5l.94-2.06 2.06-.94-2.06-.94L8.5 2.5l-.94 2.06-2.06.94zm10 10l.94 2.06.94-2.06 2.06-.94-2.06-.94-.94-2.06-.94 2.06-2.06.94z\"/><path d=\"M17.41 7.96l-1.37-1.37c-.4-.4-.92-.59-1.43-.59-.52 0-1.04.2-1.43.59L10.3 9.45l-7.72 7.72c-.78.78-.78 2.05 0 2.83L4 21.41c.39.39.9.59 1.41.59.51 0 1.02-.2 1.41-.59l7.78-7.78 2.81-2.81c.8-.78.8-2.07 0-2.86zM5.41 20L4 18.59l7.72-7.72 1.47 1.35L5.41 20z\"/>\n",
              "  </svg>\n",
              "      </button>\n",
              "      \n",
              "  <style>\n",
              "    .colab-df-container {\n",
              "      display:flex;\n",
              "      flex-wrap:wrap;\n",
              "      gap: 12px;\n",
              "    }\n",
              "\n",
              "    .colab-df-convert {\n",
              "      background-color: #E8F0FE;\n",
              "      border: none;\n",
              "      border-radius: 50%;\n",
              "      cursor: pointer;\n",
              "      display: none;\n",
              "      fill: #1967D2;\n",
              "      height: 32px;\n",
              "      padding: 0 0 0 0;\n",
              "      width: 32px;\n",
              "    }\n",
              "\n",
              "    .colab-df-convert:hover {\n",
              "      background-color: #E2EBFA;\n",
              "      box-shadow: 0px 1px 2px rgba(60, 64, 67, 0.3), 0px 1px 3px 1px rgba(60, 64, 67, 0.15);\n",
              "      fill: #174EA6;\n",
              "    }\n",
              "\n",
              "    [theme=dark] .colab-df-convert {\n",
              "      background-color: #3B4455;\n",
              "      fill: #D2E3FC;\n",
              "    }\n",
              "\n",
              "    [theme=dark] .colab-df-convert:hover {\n",
              "      background-color: #434B5C;\n",
              "      box-shadow: 0px 1px 3px 1px rgba(0, 0, 0, 0.15);\n",
              "      filter: drop-shadow(0px 1px 2px rgba(0, 0, 0, 0.3));\n",
              "      fill: #FFFFFF;\n",
              "    }\n",
              "  </style>\n",
              "\n",
              "      <script>\n",
              "        const buttonEl =\n",
              "          document.querySelector('#df-a1907f39-8873-44aa-bbee-867ef0d708e1 button.colab-df-convert');\n",
              "        buttonEl.style.display =\n",
              "          google.colab.kernel.accessAllowed ? 'block' : 'none';\n",
              "\n",
              "        async function convertToInteractive(key) {\n",
              "          const element = document.querySelector('#df-a1907f39-8873-44aa-bbee-867ef0d708e1');\n",
              "          const dataTable =\n",
              "            await google.colab.kernel.invokeFunction('convertToInteractive',\n",
              "                                                     [key], {});\n",
              "          if (!dataTable) return;\n",
              "\n",
              "          const docLinkHtml = 'Like what you see? Visit the ' +\n",
              "            '<a target=\"_blank\" href=https://colab.research.google.com/notebooks/data_table.ipynb>data table notebook</a>'\n",
              "            + ' to learn more about interactive tables.';\n",
              "          element.innerHTML = '';\n",
              "          dataTable['output_type'] = 'display_data';\n",
              "          await google.colab.output.renderOutput(dataTable, element);\n",
              "          const docLink = document.createElement('div');\n",
              "          docLink.innerHTML = docLinkHtml;\n",
              "          element.appendChild(docLink);\n",
              "        }\n",
              "      </script>\n",
              "    </div>\n",
              "  </div>\n",
              "  "
            ]
          },
          "metadata": {},
          "execution_count": 19
        }
      ]
    },
    {
      "cell_type": "code",
      "source": [
        "import scipy.stats as stats\n",
        "\n",
        "oddsratio, pvalue = stats.fisher_exact([[4, 0],[0, 4]])  \n",
        "pvalue"
      ],
      "metadata": {
        "id": "u2EC3tKEdMLC",
        "colab": {
          "base_uri": "https://localhost:8080/"
        },
        "outputId": "a4db001b-dcf3-4339-83f3-d51a80625306"
      },
      "execution_count": null,
      "outputs": [
        {
          "output_type": "execute_result",
          "data": {
            "text/plain": [
              "0.028571428571428536"
            ]
          },
          "metadata": {},
          "execution_count": 20
        }
      ]
    },
    {
      "cell_type": "code",
      "source": [
        "from google.colab import drive\n",
        "drive.mount('/content/drive')"
      ],
      "metadata": {
        "id": "sIUverjQMhqH"
      },
      "execution_count": null,
      "outputs": []
    },
    {
      "cell_type": "code",
      "source": [
        ""
      ],
      "metadata": {
        "id": "u9a6PmfedMMY"
      },
      "execution_count": null,
      "outputs": []
    },
    {
      "cell_type": "code",
      "source": [
        ""
      ],
      "metadata": {
        "id": "sM-Hx8ppdMO4"
      },
      "execution_count": null,
      "outputs": []
    },
    {
      "cell_type": "code",
      "source": [
        ""
      ],
      "metadata": {
        "id": "0SEQv2w5dMRT"
      },
      "execution_count": null,
      "outputs": []
    },
    {
      "cell_type": "code",
      "source": [
        ""
      ],
      "metadata": {
        "id": "I7bL82p6dMT6"
      },
      "execution_count": null,
      "outputs": []
    },
    {
      "cell_type": "code",
      "source": [
        ""
      ],
      "metadata": {
        "id": "SdklDcIFdMWf"
      },
      "execution_count": null,
      "outputs": []
    },
    {
      "cell_type": "code",
      "source": [
        ""
      ],
      "metadata": {
        "id": "BKMItebndMZ2"
      },
      "execution_count": null,
      "outputs": []
    },
    {
      "cell_type": "code",
      "source": [
        ""
      ],
      "metadata": {
        "id": "LBkZI-xkdMcw"
      },
      "execution_count": null,
      "outputs": []
    },
    {
      "cell_type": "code",
      "source": [
        ""
      ],
      "metadata": {
        "id": "jNMZuXIzdMfV"
      },
      "execution_count": null,
      "outputs": []
    },
    {
      "cell_type": "code",
      "source": [
        ""
      ],
      "metadata": {
        "id": "ATKawltKdMiR"
      },
      "execution_count": null,
      "outputs": []
    },
    {
      "cell_type": "code",
      "source": [
        ""
      ],
      "metadata": {
        "id": "GgxsBAwSdMkz"
      },
      "execution_count": null,
      "outputs": []
    },
    {
      "cell_type": "code",
      "source": [
        ""
      ],
      "metadata": {
        "id": "qHf_FAy7dMnb"
      },
      "execution_count": null,
      "outputs": []
    },
    {
      "cell_type": "code",
      "source": [
        ""
      ],
      "metadata": {
        "id": "Zmc-IJ6sdMqZ"
      },
      "execution_count": null,
      "outputs": []
    },
    {
      "cell_type": "code",
      "source": [
        "#All combinations:\n",
        "from itertools import combinations\n",
        "poss = list(itertools.combinations(cups,4))\n",
        "print(\"Length = \", len(poss))\n",
        "print(poss)"
      ],
      "metadata": {
        "colab": {
          "base_uri": "https://localhost:8080/"
        },
        "id": "ZYgB13joVkCi",
        "outputId": "9db179bc-2765-4495-8e2e-bd953b3f7dec"
      },
      "execution_count": null,
      "outputs": [
        {
          "output_type": "stream",
          "name": "stdout",
          "text": [
            "Length =  70\n",
            "[(0, 1, 2, 3), (0, 1, 2, 4), (0, 1, 2, 5), (0, 1, 2, 6), (0, 1, 2, 7), (0, 1, 3, 4), (0, 1, 3, 5), (0, 1, 3, 6), (0, 1, 3, 7), (0, 1, 4, 5), (0, 1, 4, 6), (0, 1, 4, 7), (0, 1, 5, 6), (0, 1, 5, 7), (0, 1, 6, 7), (0, 2, 3, 4), (0, 2, 3, 5), (0, 2, 3, 6), (0, 2, 3, 7), (0, 2, 4, 5), (0, 2, 4, 6), (0, 2, 4, 7), (0, 2, 5, 6), (0, 2, 5, 7), (0, 2, 6, 7), (0, 3, 4, 5), (0, 3, 4, 6), (0, 3, 4, 7), (0, 3, 5, 6), (0, 3, 5, 7), (0, 3, 6, 7), (0, 4, 5, 6), (0, 4, 5, 7), (0, 4, 6, 7), (0, 5, 6, 7), (1, 2, 3, 4), (1, 2, 3, 5), (1, 2, 3, 6), (1, 2, 3, 7), (1, 2, 4, 5), (1, 2, 4, 6), (1, 2, 4, 7), (1, 2, 5, 6), (1, 2, 5, 7), (1, 2, 6, 7), (1, 3, 4, 5), (1, 3, 4, 6), (1, 3, 4, 7), (1, 3, 5, 6), (1, 3, 5, 7), (1, 3, 6, 7), (1, 4, 5, 6), (1, 4, 5, 7), (1, 4, 6, 7), (1, 5, 6, 7), (2, 3, 4, 5), (2, 3, 4, 6), (2, 3, 4, 7), (2, 3, 5, 6), (2, 3, 5, 7), (2, 3, 6, 7), (2, 4, 5, 6), (2, 4, 5, 7), (2, 4, 6, 7), (2, 5, 6, 7), (3, 4, 5, 6), (3, 4, 5, 7), (3, 4, 6, 7), (3, 5, 6, 7), (4, 5, 6, 7)]\n"
          ]
        }
      ]
    },
    {
      "cell_type": "code",
      "source": [
        "#Random selection\n",
        "dist_vals = []\n",
        "\n",
        "for i in poss:\n",
        "    \n",
        "    # Random Choice from combinations\n",
        "    rc = set(random.choice(poss))\n",
        "    \n",
        "    # Iterate over sample from combinations\n",
        "    ii = set(i)\n",
        "    \n",
        "    print(\"Random Choice = \", rc, \" | Length = \", len(rc))\n",
        "    print(\"\\nSample = \", ii, \" | Length = \", len(ii))\n",
        "    print(\"\\nSuccess = \", rc&ii, \" | Length = \", len(rc&ii))\n",
        "    dist_vals.append(len(rc&ii))\n",
        "    print(\"\\n\\n==========================================\\n\")"
      ],
      "metadata": {
        "colab": {
          "base_uri": "https://localhost:8080/"
        },
        "id": "_M9peoheXxbF",
        "outputId": "5f85452e-7613-425a-eedd-42b5b1075b33"
      },
      "execution_count": null,
      "outputs": [
        {
          "output_type": "stream",
          "name": "stdout",
          "text": [
            "Random Choice =  {1, 2, 4, 6}  | Length =  4\n",
            "\n",
            "Sample =  {0, 1, 2, 3}  | Length =  4\n",
            "\n",
            "Success =  {1, 2}  | Length =  2\n",
            "\n",
            "\n",
            "==========================================\n",
            "\n",
            "Random Choice =  {0, 1, 3, 6}  | Length =  4\n",
            "\n",
            "Sample =  {0, 1, 2, 4}  | Length =  4\n",
            "\n",
            "Success =  {0, 1}  | Length =  2\n",
            "\n",
            "\n",
            "==========================================\n",
            "\n",
            "Random Choice =  {3, 4, 6, 7}  | Length =  4\n",
            "\n",
            "Sample =  {0, 1, 2, 5}  | Length =  4\n",
            "\n",
            "Success =  set()  | Length =  0\n",
            "\n",
            "\n",
            "==========================================\n",
            "\n",
            "Random Choice =  {2, 4, 5, 6}  | Length =  4\n",
            "\n",
            "Sample =  {0, 1, 2, 6}  | Length =  4\n",
            "\n",
            "Success =  {2, 6}  | Length =  2\n",
            "\n",
            "\n",
            "==========================================\n",
            "\n",
            "Random Choice =  {1, 2, 5, 7}  | Length =  4\n",
            "\n",
            "Sample =  {0, 1, 2, 7}  | Length =  4\n",
            "\n",
            "Success =  {1, 2, 7}  | Length =  3\n",
            "\n",
            "\n",
            "==========================================\n",
            "\n",
            "Random Choice =  {0, 1, 5, 6}  | Length =  4\n",
            "\n",
            "Sample =  {0, 1, 3, 4}  | Length =  4\n",
            "\n",
            "Success =  {0, 1}  | Length =  2\n",
            "\n",
            "\n",
            "==========================================\n",
            "\n",
            "Random Choice =  {0, 1, 3, 6}  | Length =  4\n",
            "\n",
            "Sample =  {0, 1, 3, 5}  | Length =  4\n",
            "\n",
            "Success =  {0, 1, 3}  | Length =  3\n",
            "\n",
            "\n",
            "==========================================\n",
            "\n",
            "Random Choice =  {0, 4, 5, 6}  | Length =  4\n",
            "\n",
            "Sample =  {0, 1, 3, 6}  | Length =  4\n",
            "\n",
            "Success =  {0, 6}  | Length =  2\n",
            "\n",
            "\n",
            "==========================================\n",
            "\n",
            "Random Choice =  {0, 1, 2, 3}  | Length =  4\n",
            "\n",
            "Sample =  {0, 1, 3, 7}  | Length =  4\n",
            "\n",
            "Success =  {0, 1, 3}  | Length =  3\n",
            "\n",
            "\n",
            "==========================================\n",
            "\n",
            "Random Choice =  {1, 2, 3, 7}  | Length =  4\n",
            "\n",
            "Sample =  {0, 1, 4, 5}  | Length =  4\n",
            "\n",
            "Success =  {1}  | Length =  1\n",
            "\n",
            "\n",
            "==========================================\n",
            "\n",
            "Random Choice =  {0, 4, 5, 7}  | Length =  4\n",
            "\n",
            "Sample =  {0, 1, 4, 6}  | Length =  4\n",
            "\n",
            "Success =  {0, 4}  | Length =  2\n",
            "\n",
            "\n",
            "==========================================\n",
            "\n",
            "Random Choice =  {2, 3, 6, 7}  | Length =  4\n",
            "\n",
            "Sample =  {0, 1, 4, 7}  | Length =  4\n",
            "\n",
            "Success =  {7}  | Length =  1\n",
            "\n",
            "\n",
            "==========================================\n",
            "\n",
            "Random Choice =  {0, 2, 4, 7}  | Length =  4\n",
            "\n",
            "Sample =  {0, 1, 5, 6}  | Length =  4\n",
            "\n",
            "Success =  {0}  | Length =  1\n",
            "\n",
            "\n",
            "==========================================\n",
            "\n",
            "Random Choice =  {3, 4, 5, 7}  | Length =  4\n",
            "\n",
            "Sample =  {0, 1, 5, 7}  | Length =  4\n",
            "\n",
            "Success =  {5, 7}  | Length =  2\n",
            "\n",
            "\n",
            "==========================================\n",
            "\n",
            "Random Choice =  {3, 4, 5, 6}  | Length =  4\n",
            "\n",
            "Sample =  {0, 1, 6, 7}  | Length =  4\n",
            "\n",
            "Success =  {6}  | Length =  1\n",
            "\n",
            "\n",
            "==========================================\n",
            "\n",
            "Random Choice =  {0, 3, 4, 6}  | Length =  4\n",
            "\n",
            "Sample =  {0, 2, 3, 4}  | Length =  4\n",
            "\n",
            "Success =  {0, 3, 4}  | Length =  3\n",
            "\n",
            "\n",
            "==========================================\n",
            "\n",
            "Random Choice =  {1, 3, 4, 6}  | Length =  4\n",
            "\n",
            "Sample =  {0, 2, 3, 5}  | Length =  4\n",
            "\n",
            "Success =  {3}  | Length =  1\n",
            "\n",
            "\n",
            "==========================================\n",
            "\n",
            "Random Choice =  {2, 4, 5, 6}  | Length =  4\n",
            "\n",
            "Sample =  {0, 2, 3, 6}  | Length =  4\n",
            "\n",
            "Success =  {2, 6}  | Length =  2\n",
            "\n",
            "\n",
            "==========================================\n",
            "\n",
            "Random Choice =  {1, 2, 3, 7}  | Length =  4\n",
            "\n",
            "Sample =  {0, 2, 3, 7}  | Length =  4\n",
            "\n",
            "Success =  {2, 3, 7}  | Length =  3\n",
            "\n",
            "\n",
            "==========================================\n",
            "\n",
            "Random Choice =  {1, 3, 4, 5}  | Length =  4\n",
            "\n",
            "Sample =  {0, 2, 4, 5}  | Length =  4\n",
            "\n",
            "Success =  {4, 5}  | Length =  2\n",
            "\n",
            "\n",
            "==========================================\n",
            "\n",
            "Random Choice =  {0, 1, 2, 7}  | Length =  4\n",
            "\n",
            "Sample =  {0, 2, 4, 6}  | Length =  4\n",
            "\n",
            "Success =  {0, 2}  | Length =  2\n",
            "\n",
            "\n",
            "==========================================\n",
            "\n",
            "Random Choice =  {0, 3, 6, 7}  | Length =  4\n",
            "\n",
            "Sample =  {0, 2, 4, 7}  | Length =  4\n",
            "\n",
            "Success =  {0, 7}  | Length =  2\n",
            "\n",
            "\n",
            "==========================================\n",
            "\n",
            "Random Choice =  {0, 1, 3, 5}  | Length =  4\n",
            "\n",
            "Sample =  {0, 2, 5, 6}  | Length =  4\n",
            "\n",
            "Success =  {0, 5}  | Length =  2\n",
            "\n",
            "\n",
            "==========================================\n",
            "\n",
            "Random Choice =  {2, 3, 4, 7}  | Length =  4\n",
            "\n",
            "Sample =  {0, 2, 5, 7}  | Length =  4\n",
            "\n",
            "Success =  {2, 7}  | Length =  2\n",
            "\n",
            "\n",
            "==========================================\n",
            "\n",
            "Random Choice =  {0, 2, 4, 7}  | Length =  4\n",
            "\n",
            "Sample =  {0, 2, 6, 7}  | Length =  4\n",
            "\n",
            "Success =  {0, 2, 7}  | Length =  3\n",
            "\n",
            "\n",
            "==========================================\n",
            "\n",
            "Random Choice =  {0, 2, 3, 5}  | Length =  4\n",
            "\n",
            "Sample =  {0, 3, 4, 5}  | Length =  4\n",
            "\n",
            "Success =  {0, 3, 5}  | Length =  3\n",
            "\n",
            "\n",
            "==========================================\n",
            "\n",
            "Random Choice =  {1, 3, 6, 7}  | Length =  4\n",
            "\n",
            "Sample =  {0, 3, 4, 6}  | Length =  4\n",
            "\n",
            "Success =  {3, 6}  | Length =  2\n",
            "\n",
            "\n",
            "==========================================\n",
            "\n",
            "Random Choice =  {0, 2, 6, 7}  | Length =  4\n",
            "\n",
            "Sample =  {0, 3, 4, 7}  | Length =  4\n",
            "\n",
            "Success =  {0, 7}  | Length =  2\n",
            "\n",
            "\n",
            "==========================================\n",
            "\n",
            "Random Choice =  {0, 1, 4, 7}  | Length =  4\n",
            "\n",
            "Sample =  {0, 3, 5, 6}  | Length =  4\n",
            "\n",
            "Success =  {0}  | Length =  1\n",
            "\n",
            "\n",
            "==========================================\n",
            "\n",
            "Random Choice =  {0, 1, 2, 3}  | Length =  4\n",
            "\n",
            "Sample =  {0, 3, 5, 7}  | Length =  4\n",
            "\n",
            "Success =  {0, 3}  | Length =  2\n",
            "\n",
            "\n",
            "==========================================\n",
            "\n",
            "Random Choice =  {0, 2, 3, 5}  | Length =  4\n",
            "\n",
            "Sample =  {0, 3, 6, 7}  | Length =  4\n",
            "\n",
            "Success =  {0, 3}  | Length =  2\n",
            "\n",
            "\n",
            "==========================================\n",
            "\n",
            "Random Choice =  {0, 2, 6, 7}  | Length =  4\n",
            "\n",
            "Sample =  {0, 4, 5, 6}  | Length =  4\n",
            "\n",
            "Success =  {0, 6}  | Length =  2\n",
            "\n",
            "\n",
            "==========================================\n",
            "\n",
            "Random Choice =  {0, 3, 4, 6}  | Length =  4\n",
            "\n",
            "Sample =  {0, 4, 5, 7}  | Length =  4\n",
            "\n",
            "Success =  {0, 4}  | Length =  2\n",
            "\n",
            "\n",
            "==========================================\n",
            "\n",
            "Random Choice =  {1, 2, 6, 7}  | Length =  4\n",
            "\n",
            "Sample =  {0, 4, 6, 7}  | Length =  4\n",
            "\n",
            "Success =  {6, 7}  | Length =  2\n",
            "\n",
            "\n",
            "==========================================\n",
            "\n",
            "Random Choice =  {1, 5, 6, 7}  | Length =  4\n",
            "\n",
            "Sample =  {0, 5, 6, 7}  | Length =  4\n",
            "\n",
            "Success =  {5, 6, 7}  | Length =  3\n",
            "\n",
            "\n",
            "==========================================\n",
            "\n",
            "Random Choice =  {0, 4, 5, 7}  | Length =  4\n",
            "\n",
            "Sample =  {1, 2, 3, 4}  | Length =  4\n",
            "\n",
            "Success =  {4}  | Length =  1\n",
            "\n",
            "\n",
            "==========================================\n",
            "\n",
            "Random Choice =  {1, 3, 4, 5}  | Length =  4\n",
            "\n",
            "Sample =  {1, 2, 3, 5}  | Length =  4\n",
            "\n",
            "Success =  {1, 3, 5}  | Length =  3\n",
            "\n",
            "\n",
            "==========================================\n",
            "\n",
            "Random Choice =  {0, 1, 2, 3}  | Length =  4\n",
            "\n",
            "Sample =  {1, 2, 3, 6}  | Length =  4\n",
            "\n",
            "Success =  {1, 2, 3}  | Length =  3\n",
            "\n",
            "\n",
            "==========================================\n",
            "\n",
            "Random Choice =  {1, 3, 4, 6}  | Length =  4\n",
            "\n",
            "Sample =  {1, 2, 3, 7}  | Length =  4\n",
            "\n",
            "Success =  {1, 3}  | Length =  2\n",
            "\n",
            "\n",
            "==========================================\n",
            "\n",
            "Random Choice =  {1, 5, 6, 7}  | Length =  4\n",
            "\n",
            "Sample =  {1, 2, 4, 5}  | Length =  4\n",
            "\n",
            "Success =  {1, 5}  | Length =  2\n",
            "\n",
            "\n",
            "==========================================\n",
            "\n",
            "Random Choice =  {1, 3, 4, 5}  | Length =  4\n",
            "\n",
            "Sample =  {1, 2, 4, 6}  | Length =  4\n",
            "\n",
            "Success =  {1, 4}  | Length =  2\n",
            "\n",
            "\n",
            "==========================================\n",
            "\n",
            "Random Choice =  {0, 2, 5, 6}  | Length =  4\n",
            "\n",
            "Sample =  {1, 2, 4, 7}  | Length =  4\n",
            "\n",
            "Success =  {2}  | Length =  1\n",
            "\n",
            "\n",
            "==========================================\n",
            "\n",
            "Random Choice =  {1, 2, 3, 4}  | Length =  4\n",
            "\n",
            "Sample =  {1, 2, 5, 6}  | Length =  4\n",
            "\n",
            "Success =  {1, 2}  | Length =  2\n",
            "\n",
            "\n",
            "==========================================\n",
            "\n",
            "Random Choice =  {0, 1, 3, 6}  | Length =  4\n",
            "\n",
            "Sample =  {1, 2, 5, 7}  | Length =  4\n",
            "\n",
            "Success =  {1}  | Length =  1\n",
            "\n",
            "\n",
            "==========================================\n",
            "\n",
            "Random Choice =  {2, 3, 4, 6}  | Length =  4\n",
            "\n",
            "Sample =  {1, 2, 6, 7}  | Length =  4\n",
            "\n",
            "Success =  {2, 6}  | Length =  2\n",
            "\n",
            "\n",
            "==========================================\n",
            "\n",
            "Random Choice =  {0, 1, 4, 7}  | Length =  4\n",
            "\n",
            "Sample =  {1, 3, 4, 5}  | Length =  4\n",
            "\n",
            "Success =  {1, 4}  | Length =  2\n",
            "\n",
            "\n",
            "==========================================\n",
            "\n",
            "Random Choice =  {3, 4, 5, 6}  | Length =  4\n",
            "\n",
            "Sample =  {1, 3, 4, 6}  | Length =  4\n",
            "\n",
            "Success =  {3, 4, 6}  | Length =  3\n",
            "\n",
            "\n",
            "==========================================\n",
            "\n",
            "Random Choice =  {0, 1, 5, 6}  | Length =  4\n",
            "\n",
            "Sample =  {1, 3, 4, 7}  | Length =  4\n",
            "\n",
            "Success =  {1}  | Length =  1\n",
            "\n",
            "\n",
            "==========================================\n",
            "\n",
            "Random Choice =  {0, 2, 3, 6}  | Length =  4\n",
            "\n",
            "Sample =  {1, 3, 5, 6}  | Length =  4\n",
            "\n",
            "Success =  {3, 6}  | Length =  2\n",
            "\n",
            "\n",
            "==========================================\n",
            "\n",
            "Random Choice =  {2, 3, 4, 7}  | Length =  4\n",
            "\n",
            "Sample =  {1, 3, 5, 7}  | Length =  4\n",
            "\n",
            "Success =  {3, 7}  | Length =  2\n",
            "\n",
            "\n",
            "==========================================\n",
            "\n",
            "Random Choice =  {0, 4, 5, 7}  | Length =  4\n",
            "\n",
            "Sample =  {1, 3, 6, 7}  | Length =  4\n",
            "\n",
            "Success =  {7}  | Length =  1\n",
            "\n",
            "\n",
            "==========================================\n",
            "\n",
            "Random Choice =  {3, 4, 6, 7}  | Length =  4\n",
            "\n",
            "Sample =  {1, 4, 5, 6}  | Length =  4\n",
            "\n",
            "Success =  {4, 6}  | Length =  2\n",
            "\n",
            "\n",
            "==========================================\n",
            "\n",
            "Random Choice =  {2, 3, 6, 7}  | Length =  4\n",
            "\n",
            "Sample =  {1, 4, 5, 7}  | Length =  4\n",
            "\n",
            "Success =  {7}  | Length =  1\n",
            "\n",
            "\n",
            "==========================================\n",
            "\n",
            "Random Choice =  {3, 4, 5, 7}  | Length =  4\n",
            "\n",
            "Sample =  {1, 4, 6, 7}  | Length =  4\n",
            "\n",
            "Success =  {4, 7}  | Length =  2\n",
            "\n",
            "\n",
            "==========================================\n",
            "\n",
            "Random Choice =  {1, 4, 5, 6}  | Length =  4\n",
            "\n",
            "Sample =  {1, 5, 6, 7}  | Length =  4\n",
            "\n",
            "Success =  {1, 5, 6}  | Length =  3\n",
            "\n",
            "\n",
            "==========================================\n",
            "\n",
            "Random Choice =  {0, 4, 5, 7}  | Length =  4\n",
            "\n",
            "Sample =  {2, 3, 4, 5}  | Length =  4\n",
            "\n",
            "Success =  {4, 5}  | Length =  2\n",
            "\n",
            "\n",
            "==========================================\n",
            "\n",
            "Random Choice =  {0, 3, 4, 6}  | Length =  4\n",
            "\n",
            "Sample =  {2, 3, 4, 6}  | Length =  4\n",
            "\n",
            "Success =  {3, 4, 6}  | Length =  3\n",
            "\n",
            "\n",
            "==========================================\n",
            "\n",
            "Random Choice =  {0, 5, 6, 7}  | Length =  4\n",
            "\n",
            "Sample =  {2, 3, 4, 7}  | Length =  4\n",
            "\n",
            "Success =  {7}  | Length =  1\n",
            "\n",
            "\n",
            "==========================================\n",
            "\n",
            "Random Choice =  {3, 5, 6, 7}  | Length =  4\n",
            "\n",
            "Sample =  {2, 3, 5, 6}  | Length =  4\n",
            "\n",
            "Success =  {3, 5, 6}  | Length =  3\n",
            "\n",
            "\n",
            "==========================================\n",
            "\n",
            "Random Choice =  {2, 5, 6, 7}  | Length =  4\n",
            "\n",
            "Sample =  {2, 3, 5, 7}  | Length =  4\n",
            "\n",
            "Success =  {2, 5, 7}  | Length =  3\n",
            "\n",
            "\n",
            "==========================================\n",
            "\n",
            "Random Choice =  {0, 2, 5, 7}  | Length =  4\n",
            "\n",
            "Sample =  {2, 3, 6, 7}  | Length =  4\n",
            "\n",
            "Success =  {2, 7}  | Length =  2\n",
            "\n",
            "\n",
            "==========================================\n",
            "\n",
            "Random Choice =  {1, 5, 6, 7}  | Length =  4\n",
            "\n",
            "Sample =  {2, 4, 5, 6}  | Length =  4\n",
            "\n",
            "Success =  {5, 6}  | Length =  2\n",
            "\n",
            "\n",
            "==========================================\n",
            "\n",
            "Random Choice =  {0, 2, 3, 7}  | Length =  4\n",
            "\n",
            "Sample =  {2, 4, 5, 7}  | Length =  4\n",
            "\n",
            "Success =  {2, 7}  | Length =  2\n",
            "\n",
            "\n",
            "==========================================\n",
            "\n",
            "Random Choice =  {1, 4, 5, 6}  | Length =  4\n",
            "\n",
            "Sample =  {2, 4, 6, 7}  | Length =  4\n",
            "\n",
            "Success =  {4, 6}  | Length =  2\n",
            "\n",
            "\n",
            "==========================================\n",
            "\n",
            "Random Choice =  {0, 3, 4, 5}  | Length =  4\n",
            "\n",
            "Sample =  {2, 5, 6, 7}  | Length =  4\n",
            "\n",
            "Success =  {5}  | Length =  1\n",
            "\n",
            "\n",
            "==========================================\n",
            "\n",
            "Random Choice =  {0, 3, 4, 7}  | Length =  4\n",
            "\n",
            "Sample =  {3, 4, 5, 6}  | Length =  4\n",
            "\n",
            "Success =  {3, 4}  | Length =  2\n",
            "\n",
            "\n",
            "==========================================\n",
            "\n",
            "Random Choice =  {0, 2, 3, 7}  | Length =  4\n",
            "\n",
            "Sample =  {3, 4, 5, 7}  | Length =  4\n",
            "\n",
            "Success =  {3, 7}  | Length =  2\n",
            "\n",
            "\n",
            "==========================================\n",
            "\n",
            "Random Choice =  {1, 2, 3, 5}  | Length =  4\n",
            "\n",
            "Sample =  {3, 4, 6, 7}  | Length =  4\n",
            "\n",
            "Success =  {3}  | Length =  1\n",
            "\n",
            "\n",
            "==========================================\n",
            "\n",
            "Random Choice =  {1, 3, 4, 7}  | Length =  4\n",
            "\n",
            "Sample =  {3, 5, 6, 7}  | Length =  4\n",
            "\n",
            "Success =  {3, 7}  | Length =  2\n",
            "\n",
            "\n",
            "==========================================\n",
            "\n",
            "Random Choice =  {1, 2, 6, 7}  | Length =  4\n",
            "\n",
            "Sample =  {4, 5, 6, 7}  | Length =  4\n",
            "\n",
            "Success =  {6, 7}  | Length =  2\n",
            "\n",
            "\n",
            "==========================================\n",
            "\n"
          ]
        }
      ]
    },
    {
      "cell_type": "code",
      "source": [
        "try: \n",
        "    from scipy.special import comb, logsumexp\n",
        "except ImportError:\n",
        "    from scipy.misc import comb, logsumexp\n",
        "comb(8,4)"
      ],
      "metadata": {
        "colab": {
          "base_uri": "https://localhost:8080/"
        },
        "id": "ETx2OampO4GI",
        "outputId": "fa569ed0-c63c-4ebb-c297-306815171772"
      },
      "execution_count": null,
      "outputs": [
        {
          "output_type": "execute_result",
          "data": {
            "text/plain": [
              "70.0"
            ]
          },
          "metadata": {},
          "execution_count": 1
        }
      ]
    },
    {
      "cell_type": "code",
      "source": [
        "plt.figure(figsize=(20,10))\n",
        "sns.countplot(dist_vals)\n",
        "plt.xlabel(\"Value\", size = 20)\n",
        "plt.ylabel(\"Frequency\", size = 20)\n",
        "plt.title(\"Distribution\", size = 28)\n",
        "plt.show()\n",
        "\n",
        "dKeys = Counter(dist_vals).keys()\n",
        "dVals = Counter(dist_vals).values()\n",
        "df_vals = pd.DataFrame({\"Key\":dKeys, \"Value\":dVals})\n",
        "\n",
        "tot = np.sum(list(dVals))\n",
        "percentages = []\n",
        "for k in range(len(df_vals)):\n",
        "    percentages.append(df_vals['Value'][k]/tot)\n",
        "df_vals[\"Percentage\"] = percentages\n",
        "\n",
        "df_vals.sort_values(\"Key\")\n"
      ],
      "metadata": {
        "colab": {
          "base_uri": "https://localhost:8080/",
          "height": 856
        },
        "id": "vc8HhSs1ZliH",
        "outputId": "653f7bbd-9a57-48ac-bd64-a9a01d232e3f"
      },
      "execution_count": null,
      "outputs": [
        {
          "output_type": "stream",
          "name": "stderr",
          "text": [
            "/usr/local/lib/python3.7/dist-packages/seaborn/_decorators.py:43: FutureWarning: Pass the following variable as a keyword arg: x. From version 0.12, the only valid positional argument will be `data`, and passing other arguments without an explicit keyword will result in an error or misinterpretation.\n",
            "  FutureWarning\n"
          ]
        },
        {
          "output_type": "display_data",
          "data": {
            "text/plain": [
              "<Figure size 1440x720 with 1 Axes>"
            ],
            "image/png": "[encoded data removed]"
          },
          "metadata": {}
        },
        {
          "output_type": "execute_result",
          "data": {
            "text/plain": [
              "   Key  Value  Percentage\n",
              "1    0      1    0.014286\n",
              "3    1     15    0.214286\n",
              "0    2     39    0.557143\n",
              "2    3     15    0.214286"
            ],
            "text/html": [
              "\n",
              "  <div id=\"df-59f1cf40-4db7-4a47-a483-f780c9107974\">\n",
              "    <div class=\"colab-df-container\">\n",
              "      <div>\n",
              "<style scoped>\n",
              "    .dataframe tbody tr th:only-of-type {\n",
              "        vertical-align: middle;\n",
              "    }\n",
              "\n",
              "    .dataframe tbody tr th {\n",
              "        vertical-align: top;\n",
              "    }\n",
              "\n",
              "    .dataframe thead th {\n",
              "        text-align: right;\n",
              "    }\n",
              "</style>\n",
              "<table border=\"1\" class=\"dataframe\">\n",
              "  <thead>\n",
              "    <tr style=\"text-align: right;\">\n",
              "      <th></th>\n",
              "      <th>Key</th>\n",
              "      <th>Value</th>\n",
              "      <th>Percentage</th>\n",
              "    </tr>\n",
              "  </thead>\n",
              "  <tbody>\n",
              "    <tr>\n",
              "      <th>1</th>\n",
              "      <td>0</td>\n",
              "      <td>1</td>\n",
              "      <td>0.014286</td>\n",
              "    </tr>\n",
              "    <tr>\n",
              "      <th>3</th>\n",
              "      <td>1</td>\n",
              "      <td>15</td>\n",
              "      <td>0.214286</td>\n",
              "    </tr>\n",
              "    <tr>\n",
              "      <th>0</th>\n",
              "      <td>2</td>\n",
              "      <td>39</td>\n",
              "      <td>0.557143</td>\n",
              "    </tr>\n",
              "    <tr>\n",
              "      <th>2</th>\n",
              "      <td>3</td>\n",
              "      <td>15</td>\n",
              "      <td>0.214286</td>\n",
              "    </tr>\n",
              "  </tbody>\n",
              "</table>\n",
              "</div>\n",
              "      <button class=\"colab-df-convert\" onclick=\"convertToInteractive('df-59f1cf40-4db7-4a47-a483-f780c9107974')\"\n",
              "              title=\"Convert this dataframe to an interactive table.\"\n",
              "              style=\"display:none;\">\n",
              "        \n",
              "  <svg xmlns=\"http://www.w3.org/2000/svg\" height=\"24px\"viewBox=\"0 0 24 24\"\n",
              "       width=\"24px\">\n",
              "    <path d=\"M0 0h24v24H0V0z\" fill=\"none\"/>\n",
              "    <path d=\"M18.56 5.44l.94 2.06.94-2.06 2.06-.94-2.06-.94-.94-2.06-.94 2.06-2.06.94zm-11 1L8.5 8.5l.94-2.06 2.06-.94-2.06-.94L8.5 2.5l-.94 2.06-2.06.94zm10 10l.94 2.06.94-2.06 2.06-.94-2.06-.94-.94-2.06-.94 2.06-2.06.94z\"/><path d=\"M17.41 7.96l-1.37-1.37c-.4-.4-.92-.59-1.43-.59-.52 0-1.04.2-1.43.59L10.3 9.45l-7.72 7.72c-.78.78-.78 2.05 0 2.83L4 21.41c.39.39.9.59 1.41.59.51 0 1.02-.2 1.41-.59l7.78-7.78 2.81-2.81c.8-.78.8-2.07 0-2.86zM5.41 20L4 18.59l7.72-7.72 1.47 1.35L5.41 20z\"/>\n",
              "  </svg>\n",
              "      </button>\n",
              "      \n",
              "  <style>\n",
              "    .colab-df-container {\n",
              "      display:flex;\n",
              "      flex-wrap:wrap;\n",
              "      gap: 12px;\n",
              "    }\n",
              "\n",
              "    .colab-df-convert {\n",
              "      background-color: #E8F0FE;\n",
              "      border: none;\n",
              "      border-radius: 50%;\n",
              "      cursor: pointer;\n",
              "      display: none;\n",
              "      fill: #1967D2;\n",
              "      height: 32px;\n",
              "      padding: 0 0 0 0;\n",
              "      width: 32px;\n",
              "    }\n",
              "\n",
              "    .colab-df-convert:hover {\n",
              "      background-color: #E2EBFA;\n",
              "      box-shadow: 0px 1px 2px rgba(60, 64, 67, 0.3), 0px 1px 3px 1px rgba(60, 64, 67, 0.15);\n",
              "      fill: #174EA6;\n",
              "    }\n",
              "\n",
              "    [theme=dark] .colab-df-convert {\n",
              "      background-color: #3B4455;\n",
              "      fill: #D2E3FC;\n",
              "    }\n",
              "\n",
              "    [theme=dark] .colab-df-convert:hover {\n",
              "      background-color: #434B5C;\n",
              "      box-shadow: 0px 1px 3px 1px rgba(0, 0, 0, 0.15);\n",
              "      filter: drop-shadow(0px 1px 2px rgba(0, 0, 0, 0.3));\n",
              "      fill: #FFFFFF;\n",
              "    }\n",
              "  </style>\n",
              "\n",
              "      <script>\n",
              "        const buttonEl =\n",
              "          document.querySelector('#df-59f1cf40-4db7-4a47-a483-f780c9107974 button.colab-df-convert');\n",
              "        buttonEl.style.display =\n",
              "          google.colab.kernel.accessAllowed ? 'block' : 'none';\n",
              "\n",
              "        async function convertToInteractive(key) {\n",
              "          const element = document.querySelector('#df-59f1cf40-4db7-4a47-a483-f780c9107974');\n",
              "          const dataTable =\n",
              "            await google.colab.kernel.invokeFunction('convertToInteractive',\n",
              "                                                     [key], {});\n",
              "          if (!dataTable) return;\n",
              "\n",
              "          const docLinkHtml = 'Like what you see? Visit the ' +\n",
              "            '<a target=\"_blank\" href=https://colab.research.google.com/notebooks/data_table.ipynb>data table notebook</a>'\n",
              "            + ' to learn more about interactive tables.';\n",
              "          element.innerHTML = '';\n",
              "          dataTable['output_type'] = 'display_data';\n",
              "          await google.colab.output.renderOutput(dataTable, element);\n",
              "          const docLink = document.createElement('div');\n",
              "          docLink.innerHTML = docLinkHtml;\n",
              "          element.appendChild(docLink);\n",
              "        }\n",
              "      </script>\n",
              "    </div>\n",
              "  </div>\n",
              "  "
            ]
          },
          "metadata": {},
          "execution_count": 20
        }
      ]
    },
    {
      "cell_type": "code",
      "source": [
        ""
      ],
      "metadata": {
        "id": "TMuU4mZ5VB7P"
      },
      "execution_count": null,
      "outputs": []
    },
    {
      "cell_type": "markdown",
      "source": [
        ""
      ],
      "metadata": {
        "id": "zVCIs_OSIh-X"
      }
    }
  ]
}